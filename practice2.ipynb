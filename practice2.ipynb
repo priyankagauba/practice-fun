{
 "cells": [
  {
   "cell_type": "code",
   "execution_count": 94,
   "metadata": {},
   "outputs": [],
   "source": [
    "l=[1, 9, 8, 4, 0, 0, 2, 7, 0, 6, 0, 9]"
   ]
  },
  {
   "cell_type": "code",
   "execution_count": 2,
   "metadata": {},
   "outputs": [],
   "source": [
    "l1=[]\n",
    "l2=[]"
   ]
  },
  {
   "cell_type": "code",
   "execution_count": 3,
   "metadata": {},
   "outputs": [],
   "source": [
    "for i in l:\n",
    "    if i!=0:\n",
    "        l1.append(i)\n",
    "    else:\n",
    "        l2.append(i)"
   ]
  },
  {
   "cell_type": "code",
   "execution_count": 98,
   "metadata": {},
   "outputs": [],
   "source": [
    "count=0\n",
    "for i in range(len(l)):\n",
    "    if l[i]==0:\n",
    "        count=count+1\n",
    "        print(count)\n",
    "        l.pop(i)"
   ]
  },
  {
   "cell_type": "code",
   "execution_count": 91,
   "metadata": {},
   "outputs": [
    {
     "data": {
      "text/plain": [
       "0"
      ]
     },
     "execution_count": 91,
     "metadata": {},
     "output_type": "execute_result"
    }
   ],
   "source": [
    "count"
   ]
  },
  {
   "cell_type": "code",
   "execution_count": 25,
   "metadata": {},
   "outputs": [],
   "source": [
    "l=[1, 9, 8, 4, 2, 7, 6, 9]"
   ]
  },
  {
   "cell_type": "code",
   "execution_count": 28,
   "metadata": {},
   "outputs": [],
   "source": [
    "l.sort()"
   ]
  },
  {
   "cell_type": "code",
   "execution_count": 34,
   "metadata": {},
   "outputs": [
    {
     "data": {
      "text/plain": [
       "[1, 2, 4, 6, 7, 8, 9, 9]"
      ]
     },
     "execution_count": 34,
     "metadata": {},
     "output_type": "execute_result"
    }
   ],
   "source": [
    "l"
   ]
  },
  {
   "cell_type": "code",
   "execution_count": 33,
   "metadata": {},
   "outputs": [
    {
     "data": {
      "text/plain": [
       "6.5"
      ]
     },
     "execution_count": 33,
     "metadata": {},
     "output_type": "execute_result"
    }
   ],
   "source": [
    "(l[3]+l[4])/2"
   ]
  },
  {
   "cell_type": "code",
   "execution_count": 36,
   "metadata": {},
   "outputs": [
    {
     "ename": "SyntaxError",
     "evalue": "unexpected EOF while parsing (<ipython-input-36-071718df9cf2>, line 7)",
     "output_type": "error",
     "traceback": [
      "\u001b[1;36m  File \u001b[1;32m\"<ipython-input-36-071718df9cf2>\"\u001b[1;36m, line \u001b[1;32m7\u001b[0m\n\u001b[1;33m    \u001b[0m\n\u001b[1;37m    ^\u001b[0m\n\u001b[1;31mSyntaxError\u001b[0m\u001b[1;31m:\u001b[0m unexpected EOF while parsing\n"
     ]
    }
   ],
   "source": [
    "def median_list(l):\n",
    "    l.sort()\n",
    "    if len(l)%2==0: \n",
    "        median=(l(len(l)/2)+l((len(l)/2)-1))/2\n",
    "    else:\n",
    "        median=l(len(l)/2\n",
    "        "
   ]
  },
  {
   "cell_type": "code",
   "execution_count": 18,
   "metadata": {},
   "outputs": [],
   "source": [
    "for i in range(count):\n",
    "    l=l.append('0')"
   ]
  },
  {
   "cell_type": "code",
   "execution_count": 19,
   "metadata": {},
   "outputs": [
    {
     "data": {
      "text/plain": [
       "[1, 9, 8, 4, 2, 7, 6, 9]"
      ]
     },
     "execution_count": 19,
     "metadata": {},
     "output_type": "execute_result"
    }
   ],
   "source": [
    "l"
   ]
  },
  {
   "cell_type": "code",
   "execution_count": 12,
   "metadata": {},
   "outputs": [
    {
     "data": {
      "text/plain": [
       "[1, 9, 8, 4, 2, 7, 6, 9]"
      ]
     },
     "execution_count": 12,
     "metadata": {},
     "output_type": "execute_result"
    }
   ],
   "source": [
    "l"
   ]
  },
  {
   "cell_type": "code",
   "execution_count": 10,
   "metadata": {},
   "outputs": [
    {
     "data": {
      "text/plain": [
       "[1, 9, 8, 4, 2, 7, 6, 9, 0, 0, 0, 0]"
      ]
     },
     "execution_count": 10,
     "metadata": {},
     "output_type": "execute_result"
    }
   ],
   "source": [
    "l1+l2"
   ]
  },
  {
   "cell_type": "code",
   "execution_count": 38,
   "metadata": {},
   "outputs": [],
   "source": [
    "import pandas as pd\n",
    "import numpy as np"
   ]
  },
  {
   "cell_type": "code",
   "execution_count": 75,
   "metadata": {},
   "outputs": [],
   "source": [
    "df=pd.read_csv(r'C:\\Users\\10323609\\Downloads\\char1.csv')"
   ]
  },
  {
   "cell_type": "code",
   "execution_count": 43,
   "metadata": {},
   "outputs": [],
   "source": [
    "df['flag']=0"
   ]
  },
  {
   "cell_type": "code",
   "execution_count": 44,
   "metadata": {
    "scrolled": true
   },
   "outputs": [
    {
     "data": {
      "text/html": [
       "<div>\n",
       "<style scoped>\n",
       "    .dataframe tbody tr th:only-of-type {\n",
       "        vertical-align: middle;\n",
       "    }\n",
       "\n",
       "    .dataframe tbody tr th {\n",
       "        vertical-align: top;\n",
       "    }\n",
       "\n",
       "    .dataframe thead th {\n",
       "        text-align: right;\n",
       "    }\n",
       "</style>\n",
       "<table border=\"1\" class=\"dataframe\">\n",
       "  <thead>\n",
       "    <tr style=\"text-align: right;\">\n",
       "      <th></th>\n",
       "      <th>char</th>\n",
       "      <th>minx</th>\n",
       "      <th>maxx</th>\n",
       "      <th>miny</th>\n",
       "      <th>maxy</th>\n",
       "      <th>text_id</th>\n",
       "      <th>page</th>\n",
       "      <th>flag</th>\n",
       "    </tr>\n",
       "  </thead>\n",
       "  <tbody>\n",
       "    <tr>\n",
       "      <th>0</th>\n",
       "      <td></td>\n",
       "      <td>57.375</td>\n",
       "      <td>64.881</td>\n",
       "      <td>716.691</td>\n",
       "      <td>743.691</td>\n",
       "      <td>1</td>\n",
       "      <td>0</td>\n",
       "      <td>0</td>\n",
       "    </tr>\n",
       "    <tr>\n",
       "      <th>1</th>\n",
       "      <td>A</td>\n",
       "      <td>64.881</td>\n",
       "      <td>82.890</td>\n",
       "      <td>716.691</td>\n",
       "      <td>743.691</td>\n",
       "      <td>1</td>\n",
       "      <td>0</td>\n",
       "      <td>0</td>\n",
       "    </tr>\n",
       "    <tr>\n",
       "      <th>2</th>\n",
       "      <td></td>\n",
       "      <td>82.890</td>\n",
       "      <td>90.396</td>\n",
       "      <td>716.691</td>\n",
       "      <td>743.691</td>\n",
       "      <td>1</td>\n",
       "      <td>0</td>\n",
       "      <td>0</td>\n",
       "    </tr>\n",
       "    <tr>\n",
       "      <th>3</th>\n",
       "      <td>S</td>\n",
       "      <td>90.396</td>\n",
       "      <td>108.405</td>\n",
       "      <td>716.691</td>\n",
       "      <td>743.691</td>\n",
       "      <td>1</td>\n",
       "      <td>0</td>\n",
       "      <td>0</td>\n",
       "    </tr>\n",
       "    <tr>\n",
       "      <th>4</th>\n",
       "      <td>i</td>\n",
       "      <td>108.405</td>\n",
       "      <td>114.399</td>\n",
       "      <td>716.691</td>\n",
       "      <td>743.691</td>\n",
       "      <td>1</td>\n",
       "      <td>0</td>\n",
       "      <td>0</td>\n",
       "    </tr>\n",
       "    <tr>\n",
       "      <th>...</th>\n",
       "      <td>...</td>\n",
       "      <td>...</td>\n",
       "      <td>...</td>\n",
       "      <td>...</td>\n",
       "      <td>...</td>\n",
       "      <td>...</td>\n",
       "      <td>...</td>\n",
       "      <td>...</td>\n",
       "    </tr>\n",
       "    <tr>\n",
       "      <th>931</th>\n",
       "      <td>e</td>\n",
       "      <td>314.360</td>\n",
       "      <td>319.920</td>\n",
       "      <td>638.730</td>\n",
       "      <td>648.730</td>\n",
       "      <td>16</td>\n",
       "      <td>1</td>\n",
       "      <td>0</td>\n",
       "    </tr>\n",
       "    <tr>\n",
       "      <th>932</th>\n",
       "      <td>l</td>\n",
       "      <td>319.920</td>\n",
       "      <td>322.140</td>\n",
       "      <td>638.730</td>\n",
       "      <td>648.730</td>\n",
       "      <td>16</td>\n",
       "      <td>1</td>\n",
       "      <td>0</td>\n",
       "    </tr>\n",
       "    <tr>\n",
       "      <th>933</th>\n",
       "      <td>l</td>\n",
       "      <td>322.140</td>\n",
       "      <td>324.360</td>\n",
       "      <td>638.730</td>\n",
       "      <td>648.730</td>\n",
       "      <td>16</td>\n",
       "      <td>1</td>\n",
       "      <td>0</td>\n",
       "    </tr>\n",
       "    <tr>\n",
       "      <th>934</th>\n",
       "      <td>.</td>\n",
       "      <td>324.360</td>\n",
       "      <td>327.140</td>\n",
       "      <td>638.730</td>\n",
       "      <td>648.730</td>\n",
       "      <td>16</td>\n",
       "      <td>1</td>\n",
       "      <td>0</td>\n",
       "    </tr>\n",
       "    <tr>\n",
       "      <th>935</th>\n",
       "      <td></td>\n",
       "      <td>327.140</td>\n",
       "      <td>329.920</td>\n",
       "      <td>638.730</td>\n",
       "      <td>648.730</td>\n",
       "      <td>16</td>\n",
       "      <td>1</td>\n",
       "      <td>0</td>\n",
       "    </tr>\n",
       "  </tbody>\n",
       "</table>\n",
       "<p>936 rows × 8 columns</p>\n",
       "</div>"
      ],
      "text/plain": [
       "    char     minx     maxx     miny     maxy  text_id  page  flag\n",
       "0          57.375   64.881  716.691  743.691        1     0     0\n",
       "1      A   64.881   82.890  716.691  743.691        1     0     0\n",
       "2          82.890   90.396  716.691  743.691        1     0     0\n",
       "3      S   90.396  108.405  716.691  743.691        1     0     0\n",
       "4      i  108.405  114.399  716.691  743.691        1     0     0\n",
       "..   ...      ...      ...      ...      ...      ...   ...   ...\n",
       "931    e  314.360  319.920  638.730  648.730       16     1     0\n",
       "932    l  319.920  322.140  638.730  648.730       16     1     0\n",
       "933    l  322.140  324.360  638.730  648.730       16     1     0\n",
       "934    .  324.360  327.140  638.730  648.730       16     1     0\n",
       "935       327.140  329.920  638.730  648.730       16     1     0\n",
       "\n",
       "[936 rows x 8 columns]"
      ]
     },
     "execution_count": 44,
     "metadata": {},
     "output_type": "execute_result"
    }
   ],
   "source": [
    "df"
   ]
  },
  {
   "cell_type": "code",
   "execution_count": 56,
   "metadata": {},
   "outputs": [
    {
     "data": {
      "text/plain": [
       "' '"
      ]
     },
     "execution_count": 56,
     "metadata": {},
     "output_type": "execute_result"
    }
   ],
   "source": [
    "df['char'][0]"
   ]
  },
  {
   "cell_type": "code",
   "execution_count": 59,
   "metadata": {},
   "outputs": [],
   "source": [
    "df['flag']=np.where(df['char']==' ', 0, 1)"
   ]
  },
  {
   "cell_type": "code",
   "execution_count": 85,
   "metadata": {},
   "outputs": [],
   "source": [
    "count=1\n",
    "for i in range(len(df.index)):\n",
    "    if df.loc[i,'char']==' ':\n",
    "        df.loc[i,'flag']=0\n",
    "        count=count+1\n",
    "    else:\n",
    "        df.loc[i,'flag']=count\n",
    "        \n",
    "        "
   ]
  },
  {
   "cell_type": "code",
   "execution_count": 89,
   "metadata": {},
   "outputs": [
    {
     "data": {
      "text/html": [
       "<div>\n",
       "<style scoped>\n",
       "    .dataframe tbody tr th:only-of-type {\n",
       "        vertical-align: middle;\n",
       "    }\n",
       "\n",
       "    .dataframe tbody tr th {\n",
       "        vertical-align: top;\n",
       "    }\n",
       "\n",
       "    .dataframe thead th {\n",
       "        text-align: right;\n",
       "    }\n",
       "</style>\n",
       "<table border=\"1\" class=\"dataframe\">\n",
       "  <thead>\n",
       "    <tr style=\"text-align: right;\">\n",
       "      <th></th>\n",
       "      <th>char</th>\n",
       "      <th>minx</th>\n",
       "      <th>maxx</th>\n",
       "      <th>miny</th>\n",
       "      <th>maxy</th>\n",
       "    </tr>\n",
       "    <tr>\n",
       "      <th>flag</th>\n",
       "      <th></th>\n",
       "      <th></th>\n",
       "      <th></th>\n",
       "      <th></th>\n",
       "      <th></th>\n",
       "    </tr>\n",
       "  </thead>\n",
       "  <tbody>\n",
       "    <tr>\n",
       "      <th>0</th>\n",
       "      <td>...</td>\n",
       "      <td>57.375</td>\n",
       "      <td>390.510</td>\n",
       "      <td>555.066</td>\n",
       "      <td>743.691</td>\n",
       "    </tr>\n",
       "    <tr>\n",
       "      <th>2</th>\n",
       "      <td>A</td>\n",
       "      <td>64.881</td>\n",
       "      <td>82.890</td>\n",
       "      <td>716.691</td>\n",
       "      <td>743.691</td>\n",
       "    </tr>\n",
       "    <tr>\n",
       "      <th>3</th>\n",
       "      <td>Simple</td>\n",
       "      <td>90.396</td>\n",
       "      <td>172.908</td>\n",
       "      <td>716.691</td>\n",
       "      <td>743.691</td>\n",
       "    </tr>\n",
       "    <tr>\n",
       "      <th>4</th>\n",
       "      <td>PDF</td>\n",
       "      <td>180.414</td>\n",
       "      <td>234.414</td>\n",
       "      <td>716.691</td>\n",
       "      <td>743.691</td>\n",
       "    </tr>\n",
       "    <tr>\n",
       "      <th>5</th>\n",
       "      <td>File</td>\n",
       "      <td>241.920</td>\n",
       "      <td>285.417</td>\n",
       "      <td>716.691</td>\n",
       "      <td>743.691</td>\n",
       "    </tr>\n",
       "    <tr>\n",
       "      <th>...</th>\n",
       "      <td>...</td>\n",
       "      <td>...</td>\n",
       "      <td>...</td>\n",
       "      <td>...</td>\n",
       "      <td>...</td>\n",
       "    </tr>\n",
       "    <tr>\n",
       "      <th>191</th>\n",
       "      <td>end,</td>\n",
       "      <td>233.760</td>\n",
       "      <td>253.220</td>\n",
       "      <td>638.730</td>\n",
       "      <td>648.730</td>\n",
       "    </tr>\n",
       "    <tr>\n",
       "      <th>192</th>\n",
       "      <td>and</td>\n",
       "      <td>256.000</td>\n",
       "      <td>272.680</td>\n",
       "      <td>638.730</td>\n",
       "      <td>648.730</td>\n",
       "    </tr>\n",
       "    <tr>\n",
       "      <th>193</th>\n",
       "      <td>just</td>\n",
       "      <td>275.460</td>\n",
       "      <td>291.020</td>\n",
       "      <td>638.730</td>\n",
       "      <td>648.730</td>\n",
       "    </tr>\n",
       "    <tr>\n",
       "      <th>194</th>\n",
       "      <td>as</td>\n",
       "      <td>293.800</td>\n",
       "      <td>304.360</td>\n",
       "      <td>638.730</td>\n",
       "      <td>648.730</td>\n",
       "    </tr>\n",
       "    <tr>\n",
       "      <th>195</th>\n",
       "      <td>well.</td>\n",
       "      <td>307.140</td>\n",
       "      <td>327.140</td>\n",
       "      <td>638.730</td>\n",
       "      <td>648.730</td>\n",
       "    </tr>\n",
       "  </tbody>\n",
       "</table>\n",
       "<p>180 rows × 5 columns</p>\n",
       "</div>"
      ],
      "text/plain": [
       "                                                   char     minx     maxx  \\\n",
       "flag                                                                        \n",
       "0                                                   ...   57.375  390.510   \n",
       "2                                                     A   64.881   82.890   \n",
       "3                                                Simple   90.396  172.908   \n",
       "4                                                   PDF  180.414  234.414   \n",
       "5                                                  File  241.920  285.417   \n",
       "...                                                 ...      ...      ...   \n",
       "191                                                end,  233.760  253.220   \n",
       "192                                                 and  256.000  272.680   \n",
       "193                                                just  275.460  291.020   \n",
       "194                                                  as  293.800  304.360   \n",
       "195                                               well.  307.140  327.140   \n",
       "\n",
       "         miny     maxy  \n",
       "flag                    \n",
       "0     555.066  743.691  \n",
       "2     716.691  743.691  \n",
       "3     716.691  743.691  \n",
       "4     716.691  743.691  \n",
       "5     716.691  743.691  \n",
       "...       ...      ...  \n",
       "191   638.730  648.730  \n",
       "192   638.730  648.730  \n",
       "193   638.730  648.730  \n",
       "194   638.730  648.730  \n",
       "195   638.730  648.730  \n",
       "\n",
       "[180 rows x 5 columns]"
      ]
     },
     "execution_count": 89,
     "metadata": {},
     "output_type": "execute_result"
    }
   ],
   "source": [
    "df.groupby('flag').agg({'char':lambda x: ''.join(x),'minx' : min,'maxx': max,'miny' : min,'maxy': max })"
   ]
  },
  {
   "cell_type": "code",
   "execution_count": 83,
   "metadata": {},
   "outputs": [
    {
     "data": {
      "text/plain": [
       "'A'"
      ]
     },
     "execution_count": 83,
     "metadata": {},
     "output_type": "execute_result"
    }
   ],
   "source": [
    "df['char'][1]"
   ]
  },
  {
   "cell_type": "code",
   "execution_count": null,
   "metadata": {},
   "outputs": [],
   "source": []
  },
  {
   "cell_type": "code",
   "execution_count": 82,
   "metadata": {
    "scrolled": true
   },
   "outputs": [
    {
     "data": {
      "text/html": [
       "<div>\n",
       "<style scoped>\n",
       "    .dataframe tbody tr th:only-of-type {\n",
       "        vertical-align: middle;\n",
       "    }\n",
       "\n",
       "    .dataframe tbody tr th {\n",
       "        vertical-align: top;\n",
       "    }\n",
       "\n",
       "    .dataframe thead th {\n",
       "        text-align: right;\n",
       "    }\n",
       "</style>\n",
       "<table border=\"1\" class=\"dataframe\">\n",
       "  <thead>\n",
       "    <tr style=\"text-align: right;\">\n",
       "      <th></th>\n",
       "      <th>char</th>\n",
       "      <th>minx</th>\n",
       "      <th>maxx</th>\n",
       "      <th>miny</th>\n",
       "      <th>maxy</th>\n",
       "      <th>text_id</th>\n",
       "      <th>page</th>\n",
       "      <th>flag</th>\n",
       "    </tr>\n",
       "  </thead>\n",
       "  <tbody>\n",
       "    <tr>\n",
       "      <th>0</th>\n",
       "      <td></td>\n",
       "      <td>57.375</td>\n",
       "      <td>64.881</td>\n",
       "      <td>716.691</td>\n",
       "      <td>743.691</td>\n",
       "      <td>1</td>\n",
       "      <td>0</td>\n",
       "      <td>0</td>\n",
       "    </tr>\n",
       "    <tr>\n",
       "      <th>1</th>\n",
       "      <td>A</td>\n",
       "      <td>64.881</td>\n",
       "      <td>82.890</td>\n",
       "      <td>716.691</td>\n",
       "      <td>743.691</td>\n",
       "      <td>1</td>\n",
       "      <td>0</td>\n",
       "      <td>0</td>\n",
       "    </tr>\n",
       "    <tr>\n",
       "      <th>2</th>\n",
       "      <td></td>\n",
       "      <td>82.890</td>\n",
       "      <td>90.396</td>\n",
       "      <td>716.691</td>\n",
       "      <td>743.691</td>\n",
       "      <td>1</td>\n",
       "      <td>0</td>\n",
       "      <td>0</td>\n",
       "    </tr>\n",
       "    <tr>\n",
       "      <th>3</th>\n",
       "      <td>S</td>\n",
       "      <td>90.396</td>\n",
       "      <td>108.405</td>\n",
       "      <td>716.691</td>\n",
       "      <td>743.691</td>\n",
       "      <td>1</td>\n",
       "      <td>0</td>\n",
       "      <td>0</td>\n",
       "    </tr>\n",
       "    <tr>\n",
       "      <th>4</th>\n",
       "      <td>i</td>\n",
       "      <td>108.405</td>\n",
       "      <td>114.399</td>\n",
       "      <td>716.691</td>\n",
       "      <td>743.691</td>\n",
       "      <td>1</td>\n",
       "      <td>0</td>\n",
       "      <td>0</td>\n",
       "    </tr>\n",
       "    <tr>\n",
       "      <th>...</th>\n",
       "      <td>...</td>\n",
       "      <td>...</td>\n",
       "      <td>...</td>\n",
       "      <td>...</td>\n",
       "      <td>...</td>\n",
       "      <td>...</td>\n",
       "      <td>...</td>\n",
       "      <td>...</td>\n",
       "    </tr>\n",
       "    <tr>\n",
       "      <th>931</th>\n",
       "      <td>e</td>\n",
       "      <td>314.360</td>\n",
       "      <td>319.920</td>\n",
       "      <td>638.730</td>\n",
       "      <td>648.730</td>\n",
       "      <td>16</td>\n",
       "      <td>1</td>\n",
       "      <td>0</td>\n",
       "    </tr>\n",
       "    <tr>\n",
       "      <th>932</th>\n",
       "      <td>l</td>\n",
       "      <td>319.920</td>\n",
       "      <td>322.140</td>\n",
       "      <td>638.730</td>\n",
       "      <td>648.730</td>\n",
       "      <td>16</td>\n",
       "      <td>1</td>\n",
       "      <td>0</td>\n",
       "    </tr>\n",
       "    <tr>\n",
       "      <th>933</th>\n",
       "      <td>l</td>\n",
       "      <td>322.140</td>\n",
       "      <td>324.360</td>\n",
       "      <td>638.730</td>\n",
       "      <td>648.730</td>\n",
       "      <td>16</td>\n",
       "      <td>1</td>\n",
       "      <td>0</td>\n",
       "    </tr>\n",
       "    <tr>\n",
       "      <th>934</th>\n",
       "      <td>.</td>\n",
       "      <td>324.360</td>\n",
       "      <td>327.140</td>\n",
       "      <td>638.730</td>\n",
       "      <td>648.730</td>\n",
       "      <td>16</td>\n",
       "      <td>1</td>\n",
       "      <td>0</td>\n",
       "    </tr>\n",
       "    <tr>\n",
       "      <th>935</th>\n",
       "      <td></td>\n",
       "      <td>327.140</td>\n",
       "      <td>329.920</td>\n",
       "      <td>638.730</td>\n",
       "      <td>648.730</td>\n",
       "      <td>16</td>\n",
       "      <td>1</td>\n",
       "      <td>0</td>\n",
       "    </tr>\n",
       "  </tbody>\n",
       "</table>\n",
       "<p>936 rows × 8 columns</p>\n",
       "</div>"
      ],
      "text/plain": [
       "    char     minx     maxx     miny     maxy  text_id  page  flag\n",
       "0          57.375   64.881  716.691  743.691        1     0     0\n",
       "1      A   64.881   82.890  716.691  743.691        1     0     0\n",
       "2          82.890   90.396  716.691  743.691        1     0     0\n",
       "3      S   90.396  108.405  716.691  743.691        1     0     0\n",
       "4      i  108.405  114.399  716.691  743.691        1     0     0\n",
       "..   ...      ...      ...      ...      ...      ...   ...   ...\n",
       "931    e  314.360  319.920  638.730  648.730       16     1     0\n",
       "932    l  319.920  322.140  638.730  648.730       16     1     0\n",
       "933    l  322.140  324.360  638.730  648.730       16     1     0\n",
       "934    .  324.360  327.140  638.730  648.730       16     1     0\n",
       "935       327.140  329.920  638.730  648.730       16     1     0\n",
       "\n",
       "[936 rows x 8 columns]"
      ]
     },
     "execution_count": 82,
     "metadata": {},
     "output_type": "execute_result"
    }
   ],
   "source": [
    "df"
   ]
  },
  {
   "cell_type": "code",
   "execution_count": 63,
   "metadata": {},
   "outputs": [
    {
     "ename": "TypeError",
     "evalue": "'tuple' object is not callable",
     "output_type": "error",
     "traceback": [
      "\u001b[1;31m---------------------------------------------------------------------------\u001b[0m",
      "\u001b[1;31mTypeError\u001b[0m                                 Traceback (most recent call last)",
      "\u001b[1;32m<ipython-input-63-0e566b70f572>\u001b[0m in \u001b[0;36m<module>\u001b[1;34m\u001b[0m\n\u001b[1;32m----> 1\u001b[1;33m \u001b[0mdf\u001b[0m\u001b[1;33m.\u001b[0m\u001b[0mshape\u001b[0m\u001b[1;33m(\u001b[0m\u001b[1;33m)\u001b[0m\u001b[1;33m\u001b[0m\u001b[1;33m\u001b[0m\u001b[0m\n\u001b[0m",
      "\u001b[1;31mTypeError\u001b[0m: 'tuple' object is not callable"
     ]
    }
   ],
   "source": [
    "df.shape()"
   ]
  },
  {
   "cell_type": "code",
   "execution_count": null,
   "metadata": {},
   "outputs": [],
   "source": [
    "for i in range()"
   ]
  }
 ],
 "metadata": {
  "kernelspec": {
   "display_name": "Python 3",
   "language": "python",
   "name": "python3"
  },
  "language_info": {
   "codemirror_mode": {
    "name": "ipython",
    "version": 3
   },
   "file_extension": ".py",
   "mimetype": "text/x-python",
   "name": "python",
   "nbconvert_exporter": "python",
   "pygments_lexer": "ipython3",
   "version": "3.8.5"
  }
 },
 "nbformat": 4,
 "nbformat_minor": 4
}
