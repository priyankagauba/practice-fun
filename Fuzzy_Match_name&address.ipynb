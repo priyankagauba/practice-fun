{
 "cells": [
  {
   "cell_type": "code",
   "execution_count": 1,
   "metadata": {},
   "outputs": [],
   "source": [
    "import pandas as pd\n",
    "from pathlib import Path\n",
    "import fuzzymatcher"
   ]
  },
  {
   "cell_type": "code",
   "execution_count": 3,
   "metadata": {},
   "outputs": [],
   "source": [
    "BD = pd.read_excel(r\"C:\\Users\\10323609\\OneDrive - BD\\documents\\Pump shipto info.xlsx\", sheet_name=\"shipto\")\n",
    "CF = pd.read_excel(r\"C:\\Users\\10323609\\OneDrive - BD\\documents\\Pump shipto info.xlsx\", sheet_name = \"hospital ID\")"
   ]
  },
  {
   "cell_type": "code",
   "execution_count": 4,
   "metadata": {},
   "outputs": [
    {
     "data": {
      "text/plain": [
       "Index(['ID', 'Name', 'Address', 'City', 'State', 'Zip'], dtype='object')"
      ]
     },
     "execution_count": 4,
     "metadata": {},
     "output_type": "execute_result"
    }
   ],
   "source": [
    "CF.columns"
   ]
  },
  {
   "cell_type": "code",
   "execution_count": 5,
   "metadata": {},
   "outputs": [
    {
     "data": {
      "text/plain": [
       "Index(['ID', 'Name', 'Full Address', 'Address', 'City', 'State', 'Zip'], dtype='object')"
      ]
     },
     "execution_count": 5,
     "metadata": {},
     "output_type": "execute_result"
    }
   ],
   "source": [
    "BD.columns"
   ]
  },
  {
   "cell_type": "code",
   "execution_count": 6,
   "metadata": {},
   "outputs": [],
   "source": [
    "left_on = ['Name', 'Address', 'City', 'State', 'Zip']\n",
    "right_on = ['Name', 'Address', 'City', 'State', 'Zip']\n"
   ]
  },
  {
   "cell_type": "code",
   "execution_count": 8,
   "metadata": {},
   "outputs": [],
   "source": [
    "matched_resuts = fuzzymatcher.fuzzy_left_join(BD,CF,left_on,right_on,left_id_col='ID', right_id_col= 'ID')"
   ]
  },
  {
   "cell_type": "code",
   "execution_count": 9,
   "metadata": {},
   "outputs": [
    {
     "data": {
      "text/plain": [
       "Index(['best_match_score', '__id_left', '__id_right', 'ID_left', 'Name_left',\n",
       "       'Full Address', 'Address_left', 'City_left', 'State_left', 'Zip_left',\n",
       "       'ID_right', 'Name_right', 'Address_right', 'City_right', 'State_right',\n",
       "       'Zip_right'],\n",
       "      dtype='object')"
      ]
     },
     "execution_count": 9,
     "metadata": {},
     "output_type": "execute_result"
    }
   ],
   "source": [
    "matched_resuts.columns"
   ]
  },
  {
   "cell_type": "code",
   "execution_count": 10,
   "metadata": {},
   "outputs": [],
   "source": [
    "matched_resuts.rename(columns = {\"__id_left\" : \"BD_ID\", \"__id_right\" : \"CF_ID\",\"ERP Customer_left\" : \"BD_Customer\",\"Address_left\" : \"BD_Address\",\"Street_left\" : \"BD_Street\", \"City_left\" : \"BD_City\", \"State_left\" : \"BD_State\", \"Zip_left\" : \"BD_Zip\", \"ERP Customer ID_right\" : \"CF_ERP Customer ID\", \"ERP Customer_right\" : \"CF_ERP Customer\",\"Address_right\" : \"CF_Address\", \"Street_right\" : \"CF_Street\", \"City_right\" : \"CF_City\",\"State_right\" : \"CF_State\", \"Zip_right\" : \"CF_Zip\" }, inplace = True)"
   ]
  },
  {
   "cell_type": "code",
   "execution_count": 11,
   "metadata": {},
   "outputs": [],
   "source": [
    "cols = [\"best_match_score\", \"BD_Customer\", \"CF_ERP Customer\", \"BD_Address\", \"CF_Street\", \"CF_City\", \"BD_City\", \"CF_State\",\"BD_State\",\"CF_Zip\",\"BD_Zip\"]"
   ]
  },
  {
   "cell_type": "code",
   "execution_count": 12,
   "metadata": {},
   "outputs": [],
   "source": [
    "#matched_results[cols].sort_values(by=['best_match_score'], ascending=False).head(5)"
   ]
  },
  {
   "cell_type": "code",
   "execution_count": 13,
   "metadata": {},
   "outputs": [],
   "source": [
    "matched_resuts.to_excel(r\"C:\\Users\\10323609\\OneDrive - BD\\documents\\pump_hospital_fuzzy.xlsx\")"
   ]
  },
  {
   "cell_type": "code",
   "execution_count": null,
   "metadata": {},
   "outputs": [],
   "source": []
  },
  {
   "cell_type": "code",
   "execution_count": null,
   "metadata": {},
   "outputs": [],
   "source": []
  },
  {
   "cell_type": "code",
   "execution_count": null,
   "metadata": {},
   "outputs": [],
   "source": []
  },
  {
   "cell_type": "code",
   "execution_count": null,
   "metadata": {},
   "outputs": [],
   "source": []
  },
  {
   "cell_type": "code",
   "execution_count": null,
   "metadata": {},
   "outputs": [],
   "source": []
  }
 ],
 "metadata": {
  "kernelspec": {
   "display_name": "Python 3",
   "language": "python",
   "name": "python3"
  },
  "language_info": {
   "codemirror_mode": {
    "name": "ipython",
    "version": 3
   },
   "file_extension": ".py",
   "mimetype": "text/x-python",
   "name": "python",
   "nbconvert_exporter": "python",
   "pygments_lexer": "ipython3",
   "version": "3.8.5"
  }
 },
 "nbformat": 4,
 "nbformat_minor": 4
}
